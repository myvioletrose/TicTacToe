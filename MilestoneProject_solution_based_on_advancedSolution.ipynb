{
 "cells": [
  {
   "cell_type": "code",
   "execution_count": 1,
   "metadata": {},
   "outputs": [],
   "source": [
    "# import\n",
    "from IPython.display import clear_output\n",
    "import random"
   ]
  },
  {
   "cell_type": "code",
   "execution_count": 2,
   "metadata": {},
   "outputs": [],
   "source": [
    "# set up global variables\n",
    "board = [' '] * 10\n",
    "available = [str(num) for num in range(0, 10)]\n",
    "players = [0, 'X', 'O']"
   ]
  },
  {
   "cell_type": "code",
   "execution_count": 3,
   "metadata": {},
   "outputs": [],
   "source": [
    "# create display board\n",
    "def display_board(a, b):\n",
    "\tprint('   available moves\t     TIC-TAC-TOE\\n' + \n",
    "\t\t'\\n \t' +\n",
    "\t\ta[1] + '|' + a[2] + '|' + a[3] + '\t\t \t' + b[1] + '|' + b[2] + '|' + b[3] + '\\n \t' +\n",
    "\t\t'-----\t\t\t-----\\n \t' +\n",
    "\t\ta[4] + '|' + a[5] + '|' + a[6] + '\t\t \t' + b[4] + '|' + b[5] + '|' + b[6] + '\\n \t' +\n",
    "\t\t'-----\t\t\t-----\\n \t' +\n",
    "\t\ta[7] + '|' + a[8] + '|' + a[9] + '\t\t \t' + b[7] + '|' + b[8] + '|' + b[9] + '\\n \t')"
   ]
  },
  {
   "cell_type": "code",
   "execution_count": 4,
   "metadata": {},
   "outputs": [],
   "source": [
    "# alternate player\n",
    "def alter_player():\n",
    "\treturn random.choice((-1, 1))"
   ]
  },
  {
   "cell_type": "code",
   "execution_count": 5,
   "metadata": {},
   "outputs": [],
   "source": [
    "##########################################################################################\n",
    "# create \"checking\" - empty space check, return True if position is empty\n",
    "def space_check(b, p):\n",
    "\treturn b[p] == ' '\n",
    "# create \"checking\" - full board check, return True if all positions are filled\n",
    "def full_board_check(b):\n",
    "\treturn ' ' not in b[1:]\n",
    "# create \"checking\" - win check\n",
    "def win_check(b, mark):\n",
    "\treturn( ( b[1] == b[2] == b[3] == mark ) or\n",
    "\t\t\t( b[4] == b[5] == b[6] == mark ) or\n",
    "\t\t\t( b[7] == b[8] == b[9] == mark ) or\n",
    "\t\t\t( b[1] == b[4] == b[7] == mark ) or\n",
    "\t\t\t( b[2] == b[5] == b[8] == mark ) or\n",
    "\t\t\t( b[3] == b[6] == b[9] == mark ) or\n",
    "\t\t\t( b[1] == b[5] == b[9] == mark ) or\n",
    "\t\t\t( b[3] == b[5] == b[7] == mark ) )"
   ]
  },
  {
   "cell_type": "code",
   "execution_count": 6,
   "metadata": {},
   "outputs": [],
   "source": [
    "# player choice - to update marker \"position\"\n",
    "# I am not sure why this below piece would work, shouldn't position be defined first as a global variable and then subsequently overwritten when the game begins?\n",
    "# really don't understand why this below would work...??\n",
    "def player_choice(b, pl):\n",
    "\tposition = 0\n",
    "\n",
    "\twhile position not in [1, 2, 3, 4, 5, 6, 7, 8, 9] or not space_check(board, position):\n",
    "\t\ttry:\n",
    "\t\t\tposition = int( input( 'Player %s, choose your next position: (1-9)' %(pl) ) )\n",
    "\t\texcept:\n",
    "\t\t\tprint(\"Incorrect, please try again.\")\n",
    "\n",
    "\treturn position"
   ]
  },
  {
   "cell_type": "code",
   "execution_count": 7,
   "metadata": {},
   "outputs": [],
   "source": [
    "# place marker\n",
    "def place_marker(a, b, pl, p):\n",
    "\ta[p] = ' '\n",
    "\tb[p] = pl"
   ]
  },
  {
   "cell_type": "code",
   "execution_count": 8,
   "metadata": {},
   "outputs": [],
   "source": [
    "# replay\n",
    "def replay():\n",
    "\treturn input('Do you want to play again? Enter Yes or No: ').lower().startswith('y')"
   ]
  },
  {
   "cell_type": "code",
   "execution_count": null,
   "metadata": {},
   "outputs": [
    {
     "name": "stdout",
     "output_type": "stream",
     "text": [
      "Welcome to Tic Tac Toe!\n",
      "For this round, Player X will go first!\n"
     ]
    }
   ],
   "source": [
    "#########################################################\n",
    "###################### game begins ######################\n",
    "#########################################################\n",
    "while True:\n",
    "\tclear_output()\n",
    "\tprint('Welcome to Tic Tac Toe!')\n",
    "\n",
    "\ttoggle = alter_player()\n",
    "\tplayer = players[toggle]\n",
    "\tprint('For this round, Player %s will go first!' %(player))\n",
    "\n",
    "\tgame_on = True\n",
    "\tinput('Hit Enter to continue')\n",
    "\twhile game_on:\n",
    "\t\tdisplay_board(available, board)  # display the board\n",
    "\t\tposition = player_choice(board, player)  # define position\n",
    "\t\tplace_marker(available, board, player, position)  # record position for a marker\n",
    "\n",
    "\t\t# check win\n",
    "\t\tif win_check(board, player):\n",
    "\t\t\tdisplay_board(available, board)\n",
    "\t\t\tprint('Congratulations! Player ' + player + ' wins!')\n",
    "\t\t\tgame_on = False\n",
    "\t\t# check draw\t\n",
    "\t\telse: \n",
    "\t\t\tif full_board_check(board):\n",
    "\t\t\t\tdisplay_board(available, board)\n",
    "\t\t\t\tprint('The game is a draw')\n",
    "\t\t\t\tbreak\n",
    "\t\t\telse:\n",
    "\t\t\t\ttoggle *= -1\n",
    "\t\t\t\tplayer = players[toggle]\n",
    "\t\t\t\tclear_output()\n",
    "\n",
    "\t# reset the board and available moves list\n",
    "\tboard = [' '] * 10\n",
    "\tavailable = [str(num) for num in range(0, 10)]\n",
    "\n",
    "\t# so we can just run the replay function in the if-statment?\n",
    "\tif not replay():\n",
    "\t\tbreak"
   ]
  }
 ],
 "metadata": {
  "kernelspec": {
   "display_name": "Python 3",
   "language": "python",
   "name": "python3"
  },
  "language_info": {
   "codemirror_mode": {
    "name": "ipython",
    "version": 3
   },
   "file_extension": ".py",
   "mimetype": "text/x-python",
   "name": "python",
   "nbconvert_exporter": "python",
   "pygments_lexer": "ipython3",
   "version": "3.6.5"
  }
 },
 "nbformat": 4,
 "nbformat_minor": 2
}
