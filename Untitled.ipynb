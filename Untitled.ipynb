{
 "cells": [
  {
   "cell_type": "code",
   "execution_count": 2,
   "metadata": {},
   "outputs": [],
   "source": [
    "available = [str(num) for num in range(0, 10)]"
   ]
  },
  {
   "cell_type": "code",
   "execution_count": 3,
   "metadata": {},
   "outputs": [
    {
     "data": {
      "text/plain": [
       "['0', '1', '2', '3', '4', '5', '6', '7', '8', '9']"
      ]
     },
     "execution_count": 3,
     "metadata": {},
     "output_type": "execute_result"
    }
   ],
   "source": [
    "available"
   ]
  },
  {
   "cell_type": "code",
   "execution_count": 7,
   "metadata": {},
   "outputs": [
    {
     "data": {
      "text/plain": [
       "True"
      ]
     },
     "execution_count": 7,
     "metadata": {},
     "output_type": "execute_result"
    }
   ],
   "source": [
    "' ' not in available[1:]"
   ]
  },
  {
   "cell_type": "code",
   "execution_count": 16,
   "metadata": {},
   "outputs": [],
   "source": [
    "theBoard = [' '] * 10"
   ]
  },
  {
   "cell_type": "code",
   "execution_count": 19,
   "metadata": {},
   "outputs": [
    {
     "data": {
      "text/plain": [
       "' '"
      ]
     },
     "execution_count": 19,
     "metadata": {},
     "output_type": "execute_result"
    }
   ],
   "source": [
    "theBoard[0]"
   ]
  },
  {
   "cell_type": "code",
   "execution_count": 21,
   "metadata": {},
   "outputs": [],
   "source": [
    "\n",
    "def display_board(a, b):\n",
    "\tprint('available\t\t\tTIC-TAC-TOE\\n' + \n",
    "\t\t'\tmoves\\n\\n\t' +\n",
    "\t\ta[1] + '|' + a[2] + '|' + a[3] + '\t\t\t' + b[1] + '|' + b[2] + '|' + b[3] + '\\n\t' +\n",
    "\t\t'-----\t\t\t-----\\n \t' +\n",
    "\t\ta[4] + '|' + a[5] + '|' + a[6] + '\t\t\t' + b[4] + '|' + b[5] + '|' + b[6] + '\\n\t' +\n",
    "\t\t'-----\t\t\t-----\\n \t' +\n",
    "\t\ta[7] + '|' + a[8] + '|' + a[9] + '\t\t\t' + b[7] + '|' + b[8] + '|' + b[9] + '\\n\t')"
   ]
  },
  {
   "cell_type": "code",
   "execution_count": 28,
   "metadata": {},
   "outputs": [],
   "source": [
    "board = [' '] * 10\n",
    "available = [str(num) for num in range(0, 10)]\n",
    "players = [0, 'X', 'O']\n",
    "\n",
    "def display_board(a, b):\n",
    "\tprint('available\t\t\tTIC-TAC-TOE\\n' + \n",
    "\t\t'\tmoves\\n\\n\t' +\n",
    "\t\ta[1] + '|' + a[2] + '|' + a[3] + '\t\t\t' + b[1] + '|' + b[2] + '|' + b[3] + '\\n\t' +\n",
    "\t\t'-----\t\t\t-----\\n \t' +\n",
    "\t\ta[4] + '|' + a[5] + '|' + a[6] + '\t\t\t' + b[4] + '|' + b[5] + '|' + b[6] + '\\n\t' +\n",
    "\t\t'-----\t\t\t-----\\n \t' +\n",
    "\t\ta[7] + '|' + a[8] + '|' + a[9] + '\t\t\t' + b[7] + '|' + b[8] + '|' + b[9] + '\\n\t')"
   ]
  },
  {
   "cell_type": "code",
   "execution_count": 57,
   "metadata": {},
   "outputs": [
    {
     "name": "stdout",
     "output_type": "stream",
     "text": [
      "   available moves\t     TIC-TAC-TOE\n",
      "\n",
      " \t1|2|3\t\t \t | | \n",
      " \t-----\t\t\t-----\n",
      " \t4|5|6\t\t \t | | \n",
      " \t-----\t\t\t-----\n",
      " \t7|8|9\t\t \t | | \n",
      " \t\n"
     ]
    }
   ],
   "source": [
    "def display_board(a, b):\n",
    "\tprint('   available moves\t     TIC-TAC-TOE\\n' + \n",
    "\t\t'\\n \t' +\n",
    "\t\ta[1] + '|' + a[2] + '|' + a[3] + '\t\t \t' + b[1] + '|' + b[2] + '|' + b[3] + '\\n \t' +\n",
    "\t\t'-----\t\t\t-----\\n \t' +\n",
    "\t\ta[4] + '|' + a[5] + '|' + a[6] + '\t\t \t' + b[4] + '|' + b[5] + '|' + b[6] + '\\n \t' +\n",
    "\t\t'-----\t\t\t-----\\n \t' +\n",
    "\t\ta[7] + '|' + a[8] + '|' + a[9] + '\t\t \t' + b[7] + '|' + b[8] + '|' + b[9] + '\\n \t')\n",
    "\n",
    "display_board(available, board)"
   ]
  },
  {
   "cell_type": "code",
   "execution_count": null,
   "metadata": {},
   "outputs": [],
   "source": []
  }
 ],
 "metadata": {
  "kernelspec": {
   "display_name": "Python 3",
   "language": "python",
   "name": "python3"
  },
  "language_info": {
   "codemirror_mode": {
    "name": "ipython",
    "version": 3
   },
   "file_extension": ".py",
   "mimetype": "text/x-python",
   "name": "python",
   "nbconvert_exporter": "python",
   "pygments_lexer": "ipython3",
   "version": "3.6.4"
  }
 },
 "nbformat": 4,
 "nbformat_minor": 2
}
